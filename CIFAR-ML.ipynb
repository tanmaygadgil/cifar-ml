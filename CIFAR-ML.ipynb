{
 "cells": [
  {
   "cell_type": "code",
   "execution_count": 2,
   "id": "1f3158c0",
   "metadata": {},
   "outputs": [
    {
     "name": "stdout",
     "output_type": "stream",
     "text": [
      "Collecting pandas\n",
      "  Using cached pandas-1.1.5-cp36-cp36m-win_amd64.whl (8.7 MB)\n",
      "Requirement already satisfied: python-dateutil>=2.7.3 in c:\\users\\tanma\\anaconda3\\envs\\pacman\\lib\\site-packages (from pandas) (2.8.2)\n",
      "Requirement already satisfied: numpy>=1.15.4 in c:\\users\\tanma\\anaconda3\\envs\\pacman\\lib\\site-packages (from pandas) (1.19.2)\n",
      "Collecting pytz>=2017.2\n",
      "  Downloading pytz-2022.1-py2.py3-none-any.whl (503 kB)\n",
      "Requirement already satisfied: six>=1.5 in c:\\users\\tanma\\anaconda3\\envs\\pacman\\lib\\site-packages (from python-dateutil>=2.7.3->pandas) (1.16.0)\n",
      "Installing collected packages: pytz, pandas\n",
      "Successfully installed pandas-1.1.5 pytz-2022.1\n"
     ]
    },
    {
     "name": "stderr",
     "output_type": "stream",
     "text": [
      "ERROR: pip's dependency resolver does not currently take into account all the packages that are installed. This behaviour is the source of the following dependency conflicts.\n",
      "mglearn 0.1.6 requires cycler, which is not installed.\n",
      "mglearn 0.1.6 requires matplotlib, which is not installed.\n",
      "mglearn 0.1.6 requires scikit-learn, which is not installed.\n"
     ]
    }
   ],
   "source": [
    "!pip install pandas"
   ]
  },
  {
   "cell_type": "code",
   "execution_count": 3,
   "id": "b70fe211",
   "metadata": {},
   "outputs": [],
   "source": [
    "import pandas as pd\n",
    "import numpy as np"
   ]
  },
  {
   "cell_type": "markdown",
   "id": "106a6045",
   "metadata": {},
   "source": [
    "\n",
    "## Metrics\n",
    "\n",
    "\n",
    "1. Accuracy\n",
    "2. Confusion Matrix\n",
    "\n",
    "Classification report\n",
    "\n",
    "3. Precision (macro, micro, ave)\n",
    "4. Recall (macro, micro, ave)\n",
    "5. F1 (macro, micro, ave)\n",
    "6. ROC Curves\n",
    "6. Log time\n",
    "\n",
    "\n",
    "\n",
    "[Classification Metrics](https://towardsdatascience.com/comprehensive-guide-on-multiclass-classification-metrics-af94cfb83fbd)"
   ]
  },
  {
   "cell_type": "code",
   "execution_count": null,
   "id": "3c9d1d74",
   "metadata": {},
   "outputs": [],
   "source": [
    "\n"
   ]
  }
 ],
 "metadata": {
  "kernelspec": {
   "display_name": "Python [conda env:pacman] *",
   "language": "python",
   "name": "conda-env-pacman-py"
  },
  "language_info": {
   "codemirror_mode": {
    "name": "ipython",
    "version": 3
   },
   "file_extension": ".py",
   "mimetype": "text/x-python",
   "name": "python",
   "nbconvert_exporter": "python",
   "pygments_lexer": "ipython3",
   "version": "3.6.13"
  }
 },
 "nbformat": 4,
 "nbformat_minor": 5
}
